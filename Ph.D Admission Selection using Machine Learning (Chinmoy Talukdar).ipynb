{
 "cells": [
  {
   "cell_type": "markdown",
   "id": "ed5419ed",
   "metadata": {},
   "source": [
    "# PROJECT: Ph.D. ADMISSION SELECTION USING MACHINE LEARNING\n",
    "\n",
    "Chinmoy Talukdar"
   ]
  },
  {
   "cell_type": "raw",
   "id": "ffeb88bf",
   "metadata": {},
   "source": [
    "# used dataset link [phd_admission_dataset.csv] (https://drive.google.com/file/d/12Gw_HZ1faZ0DLiRHLqh2xfHqPKFsNTFe/view?usp=sharing)."
   ]
  },
  {
   "cell_type": "code",
   "execution_count": 2,
   "id": "43941dc9",
   "metadata": {},
   "outputs": [
    {
     "ename": "ModuleNotFoundError",
     "evalue": "No module named 'pandas'",
     "output_type": "error",
     "traceback": [
      "\u001b[1;31m---------------------------------------------------------------------------\u001b[0m",
      "\u001b[1;31mModuleNotFoundError\u001b[0m                       Traceback (most recent call last)",
      "Cell \u001b[1;32mIn[2], line 3\u001b[0m\n\u001b[0;32m      1\u001b[0m \u001b[38;5;66;03m#Importing libraries\u001b[39;00m\n\u001b[1;32m----> 3\u001b[0m \u001b[38;5;28;01mimport\u001b[39;00m \u001b[38;5;21;01mpandas\u001b[39;00m \u001b[38;5;28;01mas\u001b[39;00m \u001b[38;5;21;01mpd\u001b[39;00m\n\u001b[0;32m      4\u001b[0m \u001b[38;5;28;01mimport\u001b[39;00m \u001b[38;5;21;01mseaborn\u001b[39;00m \u001b[38;5;28;01mas\u001b[39;00m \u001b[38;5;21;01msns\u001b[39;00m\n\u001b[0;32m      5\u001b[0m \u001b[38;5;28;01mimport\u001b[39;00m \u001b[38;5;21;01mmatplotlib\u001b[39;00m\u001b[38;5;21;01m.\u001b[39;00m\u001b[38;5;21;01mpyplot\u001b[39;00m \u001b[38;5;28;01mas\u001b[39;00m \u001b[38;5;21;01mplt\u001b[39;00m\n",
      "\u001b[1;31mModuleNotFoundError\u001b[0m: No module named 'pandas'"
     ]
    }
   ],
   "source": [
    "#Importing libraries\n",
    "\n",
    "import pandas as pd\n",
    "import seaborn as sns\n",
    "import matplotlib.pyplot as plt\n",
    "import numpy as np\n",
    "import matplotlib.pyplot as plt\n",
    "from sklearn.model_selection import train_test_split\n",
    "from tqdm import tqdm\n",
    "from sklearn.linear_model import LogisticRegression\n",
    "from sklearn.metrics import f1_score\n",
    "import seaborn as sns\n",
    "from sklearn.model_selection import GridSearchCV\n",
    "import warnings\n",
    "warnings.filterwarnings(\"ignore\")\n",
    "from sklearn.neighbors import KNeighborsClassifier\n",
    "from sklearn.metrics import roc_auc_score\n",
    "from sklearn.metrics import roc_curve, auc"
   ]
  },
  {
   "cell_type": "code",
   "execution_count": 1,
   "id": "9fd5c6fb",
   "metadata": {},
   "outputs": [
    {
     "ename": "NameError",
     "evalue": "name 'pd' is not defined",
     "output_type": "error",
     "traceback": [
      "\u001b[1;31m---------------------------------------------------------------------------\u001b[0m",
      "\u001b[1;31mNameError\u001b[0m                                 Traceback (most recent call last)",
      "Cell \u001b[1;32mIn[1], line 3\u001b[0m\n\u001b[0;32m      1\u001b[0m url \u001b[38;5;241m=\u001b[39m \u001b[38;5;124m'\u001b[39m\u001b[38;5;124mhttps://drive.google.com/file/d/12Gw_HZ1faZ0DLiRHLqh2xfHqPKFsNTFe/view?usp=sharing\u001b[39m\u001b[38;5;124m'\u001b[39m\n\u001b[0;32m      2\u001b[0m path \u001b[38;5;241m=\u001b[39m \u001b[38;5;124m'\u001b[39m\u001b[38;5;124mhttps://drive.google.com/uc?export=download&id=\u001b[39m\u001b[38;5;124m'\u001b[39m\u001b[38;5;241m+\u001b[39murl\u001b[38;5;241m.\u001b[39msplit(\u001b[38;5;124m'\u001b[39m\u001b[38;5;124m/\u001b[39m\u001b[38;5;124m'\u001b[39m)[\u001b[38;5;241m-\u001b[39m\u001b[38;5;241m2\u001b[39m]\n\u001b[1;32m----> 3\u001b[0m data\u001b[38;5;241m=\u001b[39m\u001b[43mpd\u001b[49m\u001b[38;5;241m.\u001b[39mread_csv(path)\n\u001b[0;32m      4\u001b[0m data\u001b[38;5;241m.\u001b[39mhead(\u001b[38;5;241m10\u001b[39m)\n",
      "\u001b[1;31mNameError\u001b[0m: name 'pd' is not defined"
     ]
    }
   ],
   "source": [
    "url = 'https://drive.google.com/file/d/12Gw_HZ1faZ0DLiRHLqh2xfHqPKFsNTFe/view?usp=sharing'\n",
    "path = 'https://drive.google.com/uc?export=download&id='+url.split('/')[-2]\n",
    "data=pd.read_csv(path)\n",
    "data.head(10)"
   ]
  },
  {
   "cell_type": "code",
   "execution_count": 5,
   "id": "ebee4707",
   "metadata": {},
   "outputs": [
    {
     "data": {
      "text/plain": [
       "0    500\n",
       "1    268\n",
       "Name: admission_chance, dtype: int64"
      ]
     },
     "execution_count": 5,
     "metadata": {},
     "output_type": "execute_result"
    }
   ],
   "source": [
    "# 0 = no\n",
    "# 1 = yes\n",
    "\n",
    "data['admission_chance'].value_counts()"
   ]
  },
  {
   "cell_type": "code",
   "execution_count": 6,
   "id": "065e60b1",
   "metadata": {},
   "outputs": [
    {
     "name": "stdout",
     "output_type": "stream",
     "text": [
      "0      1\n",
      "1      0\n",
      "2      1\n",
      "3      0\n",
      "4      1\n",
      "      ..\n",
      "763    0\n",
      "764    0\n",
      "765    0\n",
      "766    1\n",
      "767    0\n",
      "Name: admission_chance, Length: 768, dtype: int64\n"
     ]
    }
   ],
   "source": [
    "print(data['admission_chance'])\n"
   ]
  },
  {
   "cell_type": "code",
   "execution_count": 7,
   "id": "42d28a6e",
   "metadata": {},
   "outputs": [
    {
     "data": {
      "image/png": "[encoded data removed]",
      "text/plain": [
       "<Figure size 432x288 with 1 Axes>"
      ]
     },
     "metadata": {
      "needs_background": "light"
     },
     "output_type": "display_data"
    }
   ],
   "source": [
    "sns.countplot(x='admission_chance', data=data, palette='hls' )\n",
    "plt.show()"
   ]
  },
  {
   "cell_type": "code",
   "execution_count": 8,
   "id": "22743212",
   "metadata": {},
   "outputs": [],
   "source": [
    "#Segregating variables: Independent and Dependent Variables\n",
    "\n",
    "X = data.drop('admission_chance', axis = 1)\n",
    "y = data['admission_chance']"
   ]
  },
  {
   "cell_type": "code",
   "execution_count": 9,
   "id": "72b93d5a",
   "metadata": {},
   "outputs": [],
   "source": [
    "#Splitting the data into train set, cross validation set and the test set\n",
    "\n",
    "X_train, X_test, y_train, y_test = train_test_split(X, y, test_size=0.2, stratify=y)\n"
   ]
  },
  {
   "cell_type": "code",
   "execution_count": 10,
   "id": "1409cf4a",
   "metadata": {},
   "outputs": [
    {
     "name": "stdout",
     "output_type": "stream",
     "text": [
      "train data: (614, 3) (614,)\n",
      "test data:  (154, 3) (154,)\n"
     ]
    }
   ],
   "source": [
    "print(\"train data:\", X_train.shape, y_train.shape)\n",
    "print(\"test data: \", X_test.shape, y_test.shape)"
   ]
  },
  {
   "cell_type": "code",
   "execution_count": 11,
   "id": "aba3cfa0",
   "metadata": {},
   "outputs": [
    {
     "data": {
      "text/plain": [
       "LogisticRegression(random_state=15)"
      ]
     },
     "execution_count": 11,
     "metadata": {},
     "output_type": "execute_result"
    }
   ],
   "source": [
    "#Using Logistic Regression\n",
    "\n",
    "clf = LogisticRegression(penalty='l2', random_state=15)\n",
    "clf.fit(X_train, y_train)"
   ]
  },
  {
   "cell_type": "code",
   "execution_count": 12,
   "id": "ca43f2b8",
   "metadata": {},
   "outputs": [
    {
     "name": "stdout",
     "output_type": "stream",
     "text": [
      "train f1_score  0.572972972972973\n"
     ]
    }
   ],
   "source": [
    "train_pred = clf.predict(X_train)\n",
    "train_f1 = f1_score(y_train, train_pred)\n",
    "print(\"train f1_score \", train_f1)"
   ]
  },
  {
   "cell_type": "code",
   "execution_count": 13,
   "id": "843d28cb",
   "metadata": {},
   "outputs": [
    {
     "name": "stdout",
     "output_type": "stream",
     "text": [
      "test f1_score  0.5934065934065933\n"
     ]
    }
   ],
   "source": [
    "test_pred = clf.predict(X_test)\n",
    "test_f1 = f1_score(y_test, test_pred)\n",
    "print(\"test f1_score \", test_f1)"
   ]
  },
  {
   "cell_type": "code",
   "execution_count": 14,
   "id": "36c967b0",
   "metadata": {},
   "outputs": [
    {
     "name": "stdout",
     "output_type": "stream",
     "text": [
      "Fitting 3 folds for each of 9 candidates, totalling 27 fits\n",
      "best C for given dataset 0.5\n",
      "tested hyperparameter [0.001 0.05 0.01 0.1 0.5 1 5 10 50]\n"
     ]
    },
    {
     "data": {
      "image/png": "[encoded data removed]",
      "text/plain": [
       "<Figure size 432x288 with 1 Axes>"
      ]
     },
     "metadata": {
      "needs_background": "light"
     },
     "output_type": "display_data"
    }
   ],
   "source": [
    "#Hyperparameter tuning for Logistic regression \n",
    "\n",
    "lr=LogisticRegression(penalty='l2', random_state=15)\n",
    "param_grid= {\"C\": [0.001,0.05,0.01,0.1,0.5,1,5,10,50]}\n",
    "\n",
    "\n",
    "clf=GridSearchCV(lr, param_grid, cv=3, scoring='roc_auc', verbose=1, return_train_score=True)\n",
    "clf.fit(X_train, y_train)\n",
    "#print(\"best C for given dataset\",clf.best_params_)\n",
    "best_C=clf.best_params_['C']\n",
    "print(\"best C for given dataset\",best_C)\n",
    "train_auc=clf.cv_results_['mean_train_score']\n",
    "train_auc_std=clf.cv_results_['std_train_score']\n",
    "cv_auc=clf.cv_results_['mean_test_score'] \n",
    "cv_auc_std=clf.cv_results_['std_test_score']\n",
    "\n",
    "C =  clf.cv_results_['param_C']\n",
    "print(\"tested hyperparameter\",C)\n",
    "\n",
    "results = pd.DataFrame.from_dict(clf.cv_results_)\n",
    "results = results.sort_values(['param_C'])\n",
    "\n",
    "plt.semilogx(C, train_auc, label='Train AUC')\n",
    "\n",
    "plt.semilogx(C, cv_auc, label='Test AUC')\n",
    "\n",
    "plt.scatter(C, train_auc, label='Train AUC points')\n",
    "plt.scatter(C, cv_auc, label='Test AUC points')\n",
    "\n",
    "plt.legend()\n",
    "plt.xlabel(\"C: hyperparameter\")\n",
    "plt.ylabel(\"AUC\")\n",
    "plt.title(\"Hyper parameter Vs AUC plot\")\n",
    "plt.grid()\n",
    "plt.show()\n"
   ]
  },
  {
   "cell_type": "code",
   "execution_count": 15,
   "id": "a71f328f",
   "metadata": {},
   "outputs": [
    {
     "data": {
      "text/plain": [
       "LogisticRegression(C=0.5, random_state=15)"
      ]
     },
     "execution_count": 15,
     "metadata": {},
     "output_type": "execute_result"
    }
   ],
   "source": [
    "# retraining model using best hyperparameter\n",
    "\n",
    "clf = LogisticRegression(penalty='l2', random_state=15, C=best_C)\n",
    "clf.fit(X_train, y_train)"
   ]
  },
  {
   "cell_type": "code",
   "execution_count": 16,
   "id": "4bae8835",
   "metadata": {},
   "outputs": [
    {
     "name": "stdout",
     "output_type": "stream",
     "text": [
      "test f1_score  0.5934065934065933\n"
     ]
    }
   ],
   "source": [
    "# f1_score for test data\n",
    "\n",
    "test_pred = clf.predict(X_test)\n",
    "test_f1 = f1_score(y_test, test_pred)\n",
    "print(\"test f1_score \", test_f1)"
   ]
  },
  {
   "cell_type": "code",
   "execution_count": 17,
   "id": "c9277758",
   "metadata": {},
   "outputs": [
    {
     "data": {
      "image/png": "[encoded data removed]",
      "text/plain": [
       "<Figure size 432x288 with 1 Axes>"
      ]
     },
     "metadata": {
      "needs_background": "light"
     },
     "output_type": "display_data"
    }
   ],
   "source": [
    "# https://scikit-learn.org/stable/modules/generated/sklearn.metrics.roc_curve.html#sklearn.metrics.roc_curve\n",
    "\n",
    "from sklearn.metrics import classification_report\n",
    "\n",
    "lr = LogisticRegression(penalty='l2', random_state=15, C=best_C)\n",
    "lr.fit(X_train, y_train)\n",
    "# roc_auc_score(y_true, y_score) the 2nd parameter should be probability estimates of the positive class\n",
    "# not the predicted outputs\n",
    "\n",
    "y_train_pred = lr.predict(X_train)\n",
    "y_test_pred = lr.predict(X_test)\n",
    "\n",
    "train_fpr, train_tpr, tr_thresholds = roc_curve(y_train, y_train_pred)\n",
    "test_fpr, test_tpr, te_thresholds = roc_curve(y_test, y_test_pred)\n",
    "\n",
    "plt.plot(train_fpr, train_tpr, label=\"train AUC =\"+str(auc(train_fpr, train_tpr)))\n",
    "plt.plot(test_fpr, test_tpr, label=\"test AUC =\"+str(auc(test_fpr, test_tpr)))\n",
    "auc_logistic = auc(test_fpr, test_tpr)\n",
    "plt.legend()\n",
    "plt.xlabel(\"alpha: hyperparameter\")\n",
    "plt.ylabel(\"AUC\")\n",
    "plt.title(\"ERROR PLOTS\")\n",
    "plt.grid()\n",
    "plt.show()\n",
    "#print(auc_logistic)"
   ]
  },
  {
   "cell_type": "code",
   "execution_count": 18,
   "id": "658479d0",
   "metadata": {},
   "outputs": [],
   "source": [
    "# we are writing our own function for predict, with defined thresould\n",
    "# we will pick a threshold that will give the least fpr\n",
    "def find_best_threshold(threshould, fpr, tpr):\n",
    "    t = threshould[np.argmax(tpr*(1-fpr))]\n",
    "    # (tpr*(1-fpr)) will be maximum if your fpr is very low and tpr is very high\n",
    "    print(\"the maximum value of tpr*(1-fpr)\", max(tpr*(1-fpr)), \"for threshold\", np.round(t,3))\n",
    "    return t\n",
    "\n",
    "def predict_with_best_t(proba, threshould):\n",
    "    predictions = []\n",
    "    for i in proba:\n",
    "        if i>=threshould:\n",
    "            predictions.append(1)\n",
    "        else:\n",
    "            predictions.append(0)\n",
    "    return predictions"
   ]
  },
  {
   "cell_type": "code",
   "execution_count": 19,
   "id": "bf20c328",
   "metadata": {},
   "outputs": [
    {
     "name": "stdout",
     "output_type": "stream",
     "text": [
      "the maximum value of tpr*(1-fpr) 0.433411214953271 for threshold 1\n"
     ]
    },
    {
     "data": {
      "image/png": "[encoded data removed]",
      "text/plain": [
       "<Figure size 432x288 with 4 Axes>"
      ]
     },
     "metadata": {
      "needs_background": "light"
     },
     "output_type": "display_data"
    }
   ],
   "source": [
    "#print(\"=\"*100)\n",
    "from sklearn.metrics import confusion_matrix\n",
    "best_t = find_best_threshold(tr_thresholds, train_fpr, train_tpr)\n",
    "\n",
    "plt.subplot(1, 2, 1) # row 1, col 2 index 1\n",
    "#print(\"Train confusion matrix\")\n",
    "cm_train_bow = confusion_matrix(y_train, predict_with_best_t(y_train_pred, best_t))\n",
    "sns.heatmap(cm_train_bow, annot=True,fmt=\"d\",cmap='Blues')\n",
    "plt.title(\"Train confusion matrix\")\n",
    "plt.ylabel('Actual Values')\n",
    "plt.xlabel('Predicted Values')\n",
    "\n",
    "plt.subplot(1, 2, 2) # index 2\n",
    "#print(\"Test confusion matrix\")\n",
    "cm_test_bow = confusion_matrix(y_test, predict_with_best_t(y_test_pred, best_t))\n",
    "sns.heatmap(cm_test_bow, annot=True,fmt=\"d\",cmap='Blues')\n",
    "plt.title(\"Test confusion matrix\")\n",
    "plt.ylabel('Actual Values')\n",
    "plt.xlabel('Predicted Values')\n",
    "\n",
    "plt.tight_layout(4)\n",
    "plt.show()"
   ]
  },
  {
   "cell_type": "code",
   "execution_count": 20,
   "id": "98da9894",
   "metadata": {},
   "outputs": [
    {
     "name": "stdout",
     "output_type": "stream",
     "text": [
      "              precision    recall  f1-score   support\n",
      "\n",
      "           0       0.77      0.90      0.83       100\n",
      "           1       0.73      0.50      0.59        54\n",
      "\n",
      "    accuracy                           0.76       154\n",
      "   macro avg       0.75      0.70      0.71       154\n",
      "weighted avg       0.76      0.76      0.75       154\n",
      "\n"
     ]
    }
   ],
   "source": [
    "print(classification_report(y_test,predict_with_best_t(y_test_pred, best_t)))"
   ]
  },
  {
   "cell_type": "markdown",
   "id": "c1e29528",
   "metadata": {},
   "source": [
    "# using KNN\n",
    "\n",
    "clf = KNeighborsClassifier(n_jobs=-1)\n",
    "clf.fit(X_train, y_train)"
   ]
  },
  {
   "cell_type": "code",
   "execution_count": 21,
   "id": "392cdd00",
   "metadata": {},
   "outputs": [
    {
     "name": "stdout",
     "output_type": "stream",
     "text": [
      "train f1_score  0.572972972972973\n"
     ]
    }
   ],
   "source": [
    "train_pred = clf.predict(X_train)\n",
    "train_f1 = f1_score(y_train, train_pred)\n",
    "print(\"train f1_score \", train_f1)"
   ]
  },
  {
   "cell_type": "code",
   "execution_count": 22,
   "id": "ba990e9c",
   "metadata": {},
   "outputs": [
    {
     "name": "stdout",
     "output_type": "stream",
     "text": [
      "test f1_score  0.5934065934065933\n"
     ]
    }
   ],
   "source": [
    "test_pred = clf.predict(X_test)\n",
    "test_f1 = f1_score(y_test, test_pred)\n",
    "print(\"test f1_score \", test_f1)"
   ]
  },
  {
   "cell_type": "code",
   "execution_count": 23,
   "id": "a11daecd",
   "metadata": {},
   "outputs": [
    {
     "name": "stdout",
     "output_type": "stream",
     "text": [
      "Fitting 3 folds for each of 34 candidates, totalling 102 fits\n",
      "best K for given dataset 45\n",
      "tested hyperparameter  [3 5 7 9 11 13 15 17 19 21 23 25 27 29 31 33 35 37 39 41 43 45 47 49 51 53\n",
      " 55 57 59 61 63 65 67 69]\n"
     ]
    },
    {
     "data": {
      "image/png": "[encoded data removed]",
      "text/plain": [
       "<Figure size 432x288 with 1 Axes>"
      ]
     },
     "metadata": {
      "needs_background": "light"
     },
     "output_type": "display_data"
    }
   ],
   "source": [
    "#Hyperparameter tuning for KNeighborsClassifier (K)\n",
    "\n",
    "knn=KNeighborsClassifier()\n",
    "param_grid= {\"n_neighbors\": np.arange(3,70,2)}\n",
    "\n",
    "\n",
    "clf=GridSearchCV(knn, param_grid, cv=3, scoring='roc_auc', verbose=1, return_train_score=True)\n",
    "clf.fit(X_train, y_train)\n",
    "#print(\"best C for given dataset\",clf.best_params_)\n",
    "best_K=clf.best_params_['n_neighbors']\n",
    "print(\"best K for given dataset\",best_K)\n",
    "train_auc=clf.cv_results_['mean_train_score']\n",
    "train_auc_std=clf.cv_results_['std_train_score']\n",
    "cv_auc=clf.cv_results_['mean_test_score'] \n",
    "cv_auc_std=clf.cv_results_['std_test_score']\n",
    "\n",
    "K =  clf.cv_results_['param_n_neighbors']\n",
    "print(\"tested hyperparameter \",K)\n",
    "\n",
    "results = pd.DataFrame.from_dict(clf.cv_results_)\n",
    "results = results.sort_values(['param_n_neighbors'])\n",
    "\n",
    "plt.plot(K, train_auc, label='Train AUC')\n",
    "\n",
    "plt.plot(K, cv_auc, label='Test AUC')\n",
    "\n",
    "plt.scatter(K, train_auc, label='Train AUC points')\n",
    "plt.scatter(K, cv_auc, label='Test AUC points')\n",
    "\n",
    "plt.legend()\n",
    "plt.xlabel(\"K: hyperparameter\")\n",
    "plt.ylabel(\"AUC\")\n",
    "plt.title(\"Hyper parameter Vs AUC plot\")\n",
    "plt.grid()\n",
    "plt.show()\n",
    "\n",
    "#results.head(5)"
   ]
  },
  {
   "cell_type": "code",
   "execution_count": 24,
   "id": "f99bdd0b",
   "metadata": {},
   "outputs": [
    {
     "data": {
      "text/plain": [
       "KNeighborsClassifier(n_jobs=-1, n_neighbors=45)"
      ]
     },
     "execution_count": 24,
     "metadata": {},
     "output_type": "execute_result"
    }
   ],
   "source": [
    "# retraining model using best hyperparameter\n",
    "\n",
    "clf = KNeighborsClassifier(n_jobs=-1, n_neighbors=best_K)\n",
    "clf.fit(X_train, y_train)"
   ]
  },
  {
   "cell_type": "code",
   "execution_count": 25,
   "id": "91c91e5b",
   "metadata": {},
   "outputs": [
    {
     "name": "stdout",
     "output_type": "stream",
     "text": [
      "test f1_score  0.6236559139784946\n"
     ]
    }
   ],
   "source": [
    "# f1_score for test data\n",
    "\n",
    "test_pred = clf.predict(X_test)\n",
    "test_f1 = f1_score(y_test, test_pred)\n",
    "print(\"test f1_score \", test_f1)"
   ]
  },
  {
   "cell_type": "code",
   "execution_count": 26,
   "id": "8dd7947d",
   "metadata": {},
   "outputs": [
    {
     "data": {
      "image/png": "[encoded data removed]",
      "text/plain": [
       "<Figure size 432x288 with 1 Axes>"
      ]
     },
     "metadata": {
      "needs_background": "light"
     },
     "output_type": "display_data"
    }
   ],
   "source": [
    "#Testing the performance of the model on test data, plotting ROC Curves\n",
    "\n",
    "            \n",
    "lr = KNeighborsClassifier(n_jobs=-1, n_neighbors=best_K)\n",
    "lr.fit(X_train, y_train)\n",
    "\n",
    "y_train_pred = lr.predict(X_train)\n",
    "y_test_pred = lr.predict(X_test)\n",
    "\n",
    "train_fpr, train_tpr, tr_thresholds = roc_curve(y_train, y_train_pred)\n",
    "test_fpr, test_tpr, te_thresholds = roc_curve(y_test, y_test_pred)\n",
    "\n",
    "plt.plot(train_fpr, train_tpr, label=\"train AUC =\"+str(auc(train_fpr, train_tpr)))\n",
    "plt.plot(test_fpr, test_tpr, label=\"test AUC =\"+str(auc(test_fpr, test_tpr)))\n",
    "auc_knn = auc(test_fpr, test_tpr)\n",
    "plt.legend()\n",
    "plt.xlabel(\"alpha: hyperparameter\")\n",
    "plt.ylabel(\"AUC\")\n",
    "plt.title(\"ERROR PLOTS\")\n",
    "plt.grid()\n",
    "plt.show()\n",
    "#print(auc_knn)"
   ]
  },
  {
   "cell_type": "code",
   "execution_count": 27,
   "id": "b568b224",
   "metadata": {},
   "outputs": [
    {
     "name": "stdout",
     "output_type": "stream",
     "text": [
      "the maximum value of tpr*(1-fpr) 0.45077102803738317 for threshold 1\n"
     ]
    },
    {
     "data": {
      "image/png": "[encoded data removed]",
      "text/plain": [
       "<Figure size 432x288 with 4 Axes>"
      ]
     },
     "metadata": {
      "needs_background": "light"
     },
     "output_type": "display_data"
    }
   ],
   "source": [
    "#print(\"=\"*100)\n",
    "from sklearn.metrics import confusion_matrix\n",
    "best_t = find_best_threshold(tr_thresholds, train_fpr, train_tpr)\n",
    "\n",
    "plt.subplot(1, 2, 1) # row 1, col 2 index 1\n",
    "cm_train_bow = confusion_matrix(y_train, predict_with_best_t(y_train_pred, best_t))\n",
    "sns.heatmap(cm_train_bow, annot=True,fmt=\"d\",cmap='Blues')\n",
    "plt.title(\"Train confusion matrix\")\n",
    "plt.ylabel('Actual Values')\n",
    "plt.xlabel('Predicted Values')\n",
    "\n",
    "plt.subplot(1, 2, 2) # index 2\n",
    "cm_test_bow = confusion_matrix(y_test, predict_with_best_t(y_test_pred, best_t))\n",
    "sns.heatmap(cm_test_bow, annot=True,fmt=\"d\",cmap='Blues')\n",
    "plt.title(\"Test confusion matrix\")\n",
    "plt.ylabel('Actual Values')\n",
    "plt.xlabel('Predicted Values')\n",
    "\n",
    "plt.tight_layout(4)\n",
    "plt.show()"
   ]
  },
  {
   "cell_type": "code",
   "execution_count": 28,
   "id": "105120ce",
   "metadata": {},
   "outputs": [
    {
     "name": "stdout",
     "output_type": "stream",
     "text": [
      "              precision    recall  f1-score   support\n",
      "\n",
      "           0       0.78      0.90      0.84       100\n",
      "           1       0.74      0.54      0.62        54\n",
      "\n",
      "    accuracy                           0.77       154\n",
      "   macro avg       0.76      0.72      0.73       154\n",
      "weighted avg       0.77      0.77      0.76       154\n",
      "\n"
     ]
    }
   ],
   "source": [
    "print(classification_report(y_test,predict_with_best_t(y_test_pred, best_t)))"
   ]
  },
  {
   "cell_type": "code",
   "execution_count": 29,
   "id": "cdbcd46d",
   "metadata": {},
   "outputs": [
    {
     "name": "stdout",
     "output_type": "stream",
     "text": [
      "+----------------------+----------------+--------------------+\n",
      "|        Model         | Hyperparameter |        AUC         |\n",
      "+----------------------+----------------+--------------------+\n",
      "|  LogisticRegression  |      0.5       | 0.7000000000000001 |\n",
      "| KNeighborsClassifier |       45       | 0.7185185185185187 |\n",
      "+----------------------+----------------+--------------------+\n"
     ]
    }
   ],
   "source": [
    "from prettytable import PrettyTable\n",
    "\n",
    "x = PrettyTable()\n",
    "x.field_names = [\"Model\", \"Hyperparameter\", \"AUC\"]\n",
    "\n",
    "x.add_row([\"LogisticRegression\", best_C, auc_logistic])\n",
    "x.add_row([\"KNeighborsClassifier\", best_K, auc_knn])\n",
    "print(x)"
   ]
  },
  {
   "cell_type": "code",
   "execution_count": null,
   "id": "7d98f4e9",
   "metadata": {},
   "outputs": [],
   "source": []
  }
 ],
 "metadata": {
  "kernelspec": {
   "display_name": "Python 3 (ipykernel)",
   "language": "python",
   "name": "python3"
  },
  "language_info": {
   "codemirror_mode": {
    "name": "ipython",
    "version": 3
   },
   "file_extension": ".py",
   "mimetype": "text/x-python",
   "name": "python",
   "nbconvert_exporter": "python",
   "pygments_lexer": "ipython3",
   "version": "3.10.4"
  }
 },
 "nbformat": 4,
 "nbformat_minor": 5
}
